{
  "nbformat": 4,
  "nbformat_minor": 0,
  "metadata": {
    "colab": {
      "name": " TF Propagator",
      "provenance": [],
      "collapsed_sections": [],
      "include_colab_link": true
    },
    "kernelspec": {
      "name": "python3",
      "display_name": "Python 3"
    },
    "accelerator": "GPU"
  },
  "cells": [
    {
      "cell_type": "markdown",
      "metadata": {
        "id": "view-in-github",
        "colab_type": "text"
      },
      "source": [
        "<a href=\"https://colab.research.google.com/github/No-Qubit-Left-Behind/Control-Engineering-in-TF/blob/master/TF_Propagator.ipynb\" target=\"_parent\"><img src=\"https://colab.research.google.com/assets/colab-badge.svg\" alt=\"Open In Colab\"/></a>"
      ]
    },
    {
      "cell_type": "markdown",
      "metadata": {
        "id": "0P4y5BajoGdE",
        "colab_type": "text"
      },
      "source": [
        "# Propagator"
      ]
    },
    {
      "cell_type": "code",
      "metadata": {
        "id": "-j1ZIrGjl9MR",
        "colab_type": "code",
        "outputId": "f321d147-b85d-42c0-bae4-91c8ed4152d2",
        "colab": {
          "base_uri": "https://localhost:8080/",
          "height": 51
        }
      },
      "source": [
        "from __future__ import absolute_import, division, print_function, unicode_literals\n",
        "from google.colab import files\n",
        "%tensorflow_version 2.x\n",
        "#!pip install tensorflow==2.0.0-beta0\n",
        "import tensorflow as tf\n",
        "import numpy as np\n",
        "import time\n",
        "print(tf.__version__)"
      ],
      "execution_count": 1,
      "outputs": [
        {
          "output_type": "stream",
          "text": [
            "TensorFlow 2.x selected.\n",
            "2.1.0\n"
          ],
          "name": "stdout"
        }
      ]
    },
    {
      "cell_type": "code",
      "metadata": {
        "colab_type": "code",
        "outputId": "df8001ec-4d2b-4e17-ebb2-9fe7426336ef",
        "id": "Yhxs-y4HYfC5",
        "colab": {
          "base_uri": "https://localhost:8080/",
          "height": 51
        }
      },
      "source": [
        "class Propagator(object):\n",
        "  def __init__(self):\n",
        "    self.length = 1372707\n",
        "    self.steps_power = int(np.floor(np.log2(self.length)))\n",
        "    self.bool_array = self.gen_bool_array()\n",
        "    self.dim = 2\n",
        "    x = -0.0602715189469 * tf.constant(\n",
        "        [[0 + 0j, 0 + 1j], [0 + 1j, 0 + 0j]], dtype=tf.complex128\n",
        "    )\n",
        "    y = -0.0602715189469 * tf.constant(\n",
        "        [[0, 1], [-1, 0]], dtype=tf.complex128\n",
        "    )\n",
        "    z = -0.0602715189469 * tf.constant(\n",
        "        [[0 + 1j, 0 + 0j], [0 + 0j, 0 - 1j]], dtype=tf.complex128\n",
        "    )\n",
        "    self.Rabi_strength = tf.Variable(0., dtype=tf.complex128)\n",
        "    self.resonance_offset = tf.Variable(0., dtype=tf.complex128)\n",
        "    self.generators =  tf.stack([x, y, z])\n",
        "    self.controls = tf.convert_to_tensor(\n",
        "        np.ones((1372707, 2)),\n",
        "        dtype=tf.complex128\n",
        "    )\n",
        "\n",
        "  def gen_bool_array(self):\n",
        "    length = self.length\n",
        "    bool_array = []\n",
        "    for i in range(self.steps_power):\n",
        "      bool_array.append(bool(np.mod(length, 2)))\n",
        "      length = np.floor(length / 2)\n",
        "    return bool_array\n",
        "  \n",
        "  @tf.function\n",
        "  def exponents(self):\n",
        "    offset_vector = tf.ones(\n",
        "        (self.length, 1), dtype=tf.complex128\n",
        "    )\n",
        "    exponents = tf.linalg.tensordot(\n",
        "        tf.concat([\n",
        "                   self.Rabi_strength * self.controls,\n",
        "                   self.resonance_offset * offset_vector\n",
        "                   ], axis=1),\n",
        "        self.generators,\n",
        "        1\n",
        "    )\n",
        "    return exponents\n",
        "  \n",
        "  @tf.function\n",
        "  def exponentials(self):\n",
        "    exponents = self.exponents()\n",
        "    return tf.linalg.expm(exponents)\n",
        "  \n",
        "  @tf.function\n",
        "  def propagate_exps(self):\n",
        "    step_exps = self.exponentials()\n",
        "    for i in range(self.steps_power):\n",
        "      if self.bool_array[i]:\n",
        "        odd_exp = step_exps[-1, :, :]\n",
        "        step_exps = tf.linalg.matmul(\n",
        "          step_exps[1::2, :, :],\n",
        "          step_exps[0:-1, :, :][0::2, :, :]\n",
        "        )\n",
        "        step_exps = tf.concat([\n",
        "            step_exps[0:-1, :, :],\n",
        "            [tf.linalg.matmul(odd_exp ,step_exps[-1, :, :])]\n",
        "        ], 0)\n",
        "      else:\n",
        "        step_exps = tf.linalg.matmul(\n",
        "          step_exps[1::2, :, :],\n",
        "          step_exps[0::2, :, :]\n",
        "        )\n",
        "    return tf.squeeze(step_exps)\n",
        "    \n",
        "  @tf.function\n",
        "  def __call__(self):\n",
        "    z = tf.constant([[1., 0.], [0., -1.]], dtype=tf.complex128)\n",
        "    propagator = self.propagate_exps()\n",
        "    z_times_propagator = tf.linalg.matmul(z, propagator)\n",
        "    z_times_propagator_adjoint = tf.linalg.matmul(\n",
        "        z, tf.linalg.adjoint(propagator)\n",
        "    )\n",
        "    return 0.5 * tf.math.real(\n",
        "        tf.linalg.trace(\n",
        "            tf.linalg.matmul(\n",
        "                z_times_propagator,\n",
        "                z_times_propagator_adjoint\n",
        "            )\n",
        "        )\n",
        "    )\n",
        "\n",
        "propagator = Propagator()\n",
        "propagator.resonance_offset.assign(-0.001)\n",
        "propagator.Rabi_strength.assign(0.5)\n",
        "propagator.propagate_exps().numpy()"
      ],
      "execution_count": 4,
      "outputs": [
        {
          "output_type": "execute_result",
          "data": {
            "text/plain": [
              "array([[ 0.99457468-0.00014711j,  0.07355674+0.07355674j],\n",
              "       [-0.07355674+0.07355674j,  0.99457468+0.00014711j]])"
            ]
          },
          "metadata": {
            "tags": []
          },
          "execution_count": 4
        }
      ]
    },
    {
      "cell_type": "code",
      "metadata": {
        "id": "augwhfGquDyy",
        "colab_type": "code",
        "colab": {}
      },
      "source": [
        ""
      ],
      "execution_count": 0,
      "outputs": []
    }
  ]
}