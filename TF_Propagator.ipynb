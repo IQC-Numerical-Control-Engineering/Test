{
  "nbformat": 4,
  "nbformat_minor": 0,
  "metadata": {
    "colab": {
      "name": " TF Propagator",
      "provenance": [],
      "collapsed_sections": [],
      "include_colab_link": true
    },
    "kernelspec": {
      "name": "python3",
      "display_name": "Python 3"
    },
    "accelerator": "GPU"
  },
  "cells": [
    {
      "cell_type": "markdown",
      "metadata": {
        "id": "view-in-github",
        "colab_type": "text"
      },
      "source": [
        "<a href=\"https://colab.research.google.com/github/No-Qubit-Left-Behind/Control-Engineering-in-TF/blob/master/TF_Propagator.ipynb\" target=\"_parent\"><img src=\"https://colab.research.google.com/assets/colab-badge.svg\" alt=\"Open In Colab\"/></a>"
      ]
    },
    {
      "cell_type": "markdown",
      "metadata": {
        "id": "0P4y5BajoGdE",
        "colab_type": "text"
      },
      "source": [
        "# Propagator"
      ]
    },
    {
      "cell_type": "code",
      "metadata": {
        "id": "-j1ZIrGjl9MR",
        "colab_type": "code",
        "outputId": "25e4a5c4-76cc-42d1-d031-31e9ac8fdb25",
        "colab": {
          "base_uri": "https://localhost:8080/",
          "height": 51
        }
      },
      "source": [
        "from __future__ import absolute_import, division, print_function, unicode_literals\n",
        "from google.colab import files\n",
        "%tensorflow_version 2.x\n",
        "#!pip install tensorflow==2.0.0-beta0\n",
        "import tensorflow as tf\n",
        "import numpy as np\n",
        "import time\n",
        "print(tf.__version__)"
      ],
      "execution_count": 1,
      "outputs": [
        {
          "output_type": "stream",
          "text": [
            "TensorFlow 2.x selected.\n",
            "2.1.0\n"
          ],
          "name": "stdout"
        }
      ]
    },
    {
      "cell_type": "code",
      "metadata": {
        "colab_type": "code",
        "outputId": "23f2a358-3f8e-47ee-8767-21c6a7dddbdb",
        "id": "Yhxs-y4HYfC5",
        "colab": {
          "base_uri": "https://localhost:8080/",
          "height": 34
        }
      },
      "source": [
        "class Propagator:\n",
        "  def __init__(self, no_of_steps):\n",
        "    x = -0.0602715189469 * tf.constant(\n",
        "        [[0 + 0j, 0 + 1j], [0 + 1j, 0 + 0j]], dtype=tf.complex128\n",
        "    )\n",
        "    y = -0.0602715189469 * tf.constant(\n",
        "        [[0, 1], [-1, 0]], dtype=tf.complex128\n",
        "    )\n",
        "    self.Rabi_strength = tf.Variable(0., dtype=tf.complex128)\n",
        "    self.generators =  tf.stack([x, y])\n",
        "    self.control_amplitudes = tf.convert_to_tensor(\n",
        "        np.ones((no_of_steps, 2)),\n",
        "        dtype=tf.complex128\n",
        "    )\n",
        "\n",
        "    # here we generate a boolean array which determines the neccessity\n",
        "    # for the extra matrix multiplication step in the recursive method\n",
        "    # __call__ when the intermediate computation array has length not\n",
        "    # divisible by 2\n",
        "    self.contraction_steps = int(np.floor(np.log2(no_of_steps)))\n",
        "    bool_array = []\n",
        "    length = no_of_steps\n",
        "    for i in range(self.contraction_steps):\n",
        "      bool_array.append(bool(np.mod(length, 2)))\n",
        "      length = np.floor(length / 2)\n",
        "    self.bool_array = bool_array\n",
        "\n",
        "  # function that computes a vector matrix exponential after multiplying each\n",
        "  # control matrix row with a the vector of generators\n",
        "  @tf.function\n",
        "  def exponentials(self):\n",
        "    exponents = tf.linalg.tensordot(\n",
        "        self.Rabi_strength * self.control_amplitudes,\n",
        "        self.generators,\n",
        "        1\n",
        "    )\n",
        "    return tf.linalg.expm(exponents)\n",
        "\n",
        "  # function which computes the final propagator by recursively multiplying\n",
        "  # each odd element in the list of matrices with each even element, whereas\n",
        "  # if the length of the array is not divisible by 2 an extra computation\n",
        "  # step is added  \n",
        "  @tf.function\n",
        "  def __call__(self):\n",
        "    step_exps = self.exponentials()\n",
        "    for i in range(self.contraction_steps):\n",
        "      if self.bool_array[i]:\n",
        "        odd_exp = step_exps[-1, :, :]\n",
        "        step_exps = tf.linalg.matmul(\n",
        "          step_exps[1::2, :, :],\n",
        "          step_exps[0:-1:2, :, :]\n",
        "          #step_exps[0:-1, :, :][0::2, :, :]\n",
        "        )\n",
        "        step_exps = tf.concat([\n",
        "            step_exps[0:-1, :, :],\n",
        "            [tf.linalg.matmul(odd_exp, step_exps[-1, :, :])]\n",
        "        ], 0)\n",
        "      else:\n",
        "        step_exps = tf.linalg.matmul(\n",
        "          step_exps[1::2, :, :],\n",
        "          step_exps[0::2, :, :]\n",
        "        )\n",
        "    return tf.squeeze(step_exps)\n",
        "\n",
        "\n",
        "propagator = Propagator(1372707)\n",
        "\n",
        "start = time.time()\n",
        "for i in range(10):\n",
        "  propagator.Rabi_strength.assign(i)\n",
        "  propagator().numpy()\n",
        "end = time.time()\n",
        "print(end-start)"
      ],
      "execution_count": 11,
      "outputs": [
        {
          "output_type": "stream",
          "text": [
            "23.31113862991333\n"
          ],
          "name": "stdout"
        }
      ]
    },
    {
      "cell_type": "code",
      "metadata": {
        "id": "ZN49VsAaN4Ku",
        "colab_type": "code",
        "colab": {}
      },
      "source": [
        ""
      ],
      "execution_count": 0,
      "outputs": []
    }
  ]
}