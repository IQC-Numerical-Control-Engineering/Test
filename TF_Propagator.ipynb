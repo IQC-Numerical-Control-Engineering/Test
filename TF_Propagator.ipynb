{
  "nbformat": 4,
  "nbformat_minor": 0,
  "metadata": {
    "colab": {
      "name": " TF Propagator",
      "provenance": [],
      "collapsed_sections": [],
      "include_colab_link": true
    },
    "kernelspec": {
      "name": "python3",
      "display_name": "Python 3"
    },
    "accelerator": "GPU"
  },
  "cells": [
    {
      "cell_type": "markdown",
      "metadata": {
        "id": "view-in-github",
        "colab_type": "text"
      },
      "source": [
        "<a href=\"https://colab.research.google.com/github/No-Qubit-Left-Behind/Control-Engineering-in-TF/blob/master/TF_Propagator.ipynb\" target=\"_parent\"><img src=\"https://colab.research.google.com/assets/colab-badge.svg\" alt=\"Open In Colab\"/></a>"
      ]
    },
    {
      "cell_type": "markdown",
      "metadata": {
        "id": "0P4y5BajoGdE",
        "colab_type": "text"
      },
      "source": [
        "# Propagator"
      ]
    },
    {
      "cell_type": "code",
      "metadata": {
        "id": "-j1ZIrGjl9MR",
        "colab_type": "code",
        "outputId": "372d5b29-5055-40a8-b5f6-500937030622",
        "colab": {
          "base_uri": "https://localhost:8080/",
          "height": 51
        }
      },
      "source": [
        "from __future__ import absolute_import, division, print_function, unicode_literals\n",
        "from google.colab import files\n",
        "%tensorflow_version 2.x\n",
        "#!pip install tensorflow==2.0.0-beta0\n",
        "import tensorflow as tf\n",
        "import numpy as np\n",
        "import time\n",
        "print(tf.__version__)"
      ],
      "execution_count": 1,
      "outputs": [
        {
          "output_type": "stream",
          "text": [
            "TensorFlow 2.x selected.\n",
            "2.1.0\n"
          ],
          "name": "stdout"
        }
      ]
    },
    {
      "cell_type": "code",
      "metadata": {
        "colab_type": "code",
        "outputId": "7e574164-69bb-4498-e5c2-f7ecf6f563b5",
        "id": "Yhxs-y4HYfC5",
        "colab": {
          "base_uri": "https://localhost:8080/",
          "height": 34
        }
      },
      "source": [
        "class Propagator:\n",
        "  def __init__(self, no_of_steps):\n",
        "    x = -0.0602715189469 * tf.constant(\n",
        "        [[0 + 0j, 0 + 1j], [0 + 1j, 0 + 0j]], dtype=tf.complex128\n",
        "    )\n",
        "    y = -0.0602715189469 * tf.constant(\n",
        "        [[0, 1], [-1, 0]], dtype=tf.complex128\n",
        "    )\n",
        "    self.Rabi_strength = tf.Variable(0., dtype=tf.complex128)\n",
        "    self.generators =  tf.stack([x, y])\n",
        "    self.controls = tf.convert_to_tensor(\n",
        "        np.ones((no_of_steps, 2)),\n",
        "        dtype=tf.complex128\n",
        "    )\n",
        "\n",
        "    self.steps_power = int(np.floor(np.log2(no_of_steps)))\n",
        "    bool_array = []\n",
        "    length = no_of_steps\n",
        "    for i in range(self.steps_power):\n",
        "      bool_array.append(bool(np.mod(length, 2)))\n",
        "      length = np.floor(length / 2)\n",
        "    self.bool_array = bool_array   \n",
        "\n",
        "  @tf.function\n",
        "  def exponents(self):\n",
        "    exponents = tf.linalg.tensordot(\n",
        "        self.controls,\n",
        "        self.generators,\n",
        "        1\n",
        "    )\n",
        "    return exponents\n",
        "  \n",
        "  @tf.function\n",
        "  def exponentials(self):\n",
        "    exponents = self.exponents()\n",
        "    return tf.linalg.expm(exponents)\n",
        "    \n",
        "  @tf.function\n",
        "  def __call__(self):\n",
        "    step_exps = self.exponentials()\n",
        "    for i in range(self.steps_power):\n",
        "      if self.bool_array[i]:\n",
        "        odd_exp = step_exps[-1, :, :]\n",
        "        step_exps = tf.linalg.matmul(\n",
        "          step_exps[1::2, :, :],\n",
        "          step_exps[0:-1, :, :][0::2, :, :]\n",
        "        )\n",
        "        step_exps = tf.concat([\n",
        "            step_exps[0:-1, :, :],\n",
        "            [tf.linalg.matmul(odd_exp ,step_exps[-1, :, :])]\n",
        "        ], 0)\n",
        "      else:\n",
        "        step_exps = tf.linalg.matmul(\n",
        "          step_exps[1::2, :, :],\n",
        "          step_exps[0::2, :, :]\n",
        "        )\n",
        "    return tf.squeeze(step_exps)\n",
        "\n",
        "propagator = Propagator(1372707)\n",
        "\n",
        "start = time.time()\n",
        "for i in range(10):\n",
        "  propagator.Rabi_strength.assign(i)\n",
        "  propagator().numpy()\n",
        "end = time.time()\n",
        "print(end-start)"
      ],
      "execution_count": 9,
      "outputs": [
        {
          "output_type": "stream",
          "text": [
            "67.8755111694336\n"
          ],
          "name": "stdout"
        }
      ]
    },
    {
      "cell_type": "code",
      "metadata": {
        "id": "augwhfGquDyy",
        "colab_type": "code",
        "colab": {}
      },
      "source": [
        ""
      ],
      "execution_count": 0,
      "outputs": []
    }
  ]
}