{
  "nbformat": 4,
  "nbformat_minor": 0,
  "metadata": {
    "colab": {
      "name": " TF Propagator",
      "provenance": [],
      "collapsed_sections": [],
      "include_colab_link": true
    },
    "kernelspec": {
      "name": "python3",
      "display_name": "Python 3"
    },
    "accelerator": "GPU"
  },
  "cells": [
    {
      "cell_type": "markdown",
      "metadata": {
        "id": "view-in-github",
        "colab_type": "text"
      },
      "source": [
        "<a href=\"https://colab.research.google.com/github/No-Qubit-Left-Behind/Control-Engineering-in-TF/blob/master/TF_Propagator.ipynb\" target=\"_parent\"><img src=\"https://colab.research.google.com/assets/colab-badge.svg\" alt=\"Open In Colab\"/></a>"
      ]
    },
    {
      "cell_type": "markdown",
      "metadata": {
        "id": "0P4y5BajoGdE",
        "colab_type": "text"
      },
      "source": [
        "# Propagator"
      ]
    },
    {
      "cell_type": "code",
      "metadata": {
        "id": "-j1ZIrGjl9MR",
        "colab_type": "code",
        "outputId": "ffc5d3f3-1cb6-4cc9-bdee-5a2446f01bf3",
        "colab": {
          "base_uri": "https://localhost:8080/",
          "height": 34
        }
      },
      "source": [
        "from __future__ import absolute_import, division, print_function, unicode_literals\n",
        "%tensorflow_version 2.x\n",
        "import tensorflow as tf\n",
        "import numpy as np\n",
        "import time\n",
        "print(tf.__version__)"
      ],
      "execution_count": 6,
      "outputs": [
        {
          "output_type": "stream",
          "text": [
            "2.1.0\n"
          ],
          "name": "stdout"
        }
      ]
    },
    {
      "cell_type": "code",
      "metadata": {
        "colab_type": "code",
        "outputId": "81b10fb0-4e97-4cf7-873f-6a3d26a7b36b",
        "id": "Yhxs-y4HYfC5",
        "colab": {
          "base_uri": "https://localhost:8080/",
          "height": 34
        }
      },
      "source": [
        "class Propagator:\n",
        "    def __init__(self, no_of_steps, dim):\n",
        "        self.dim = dim\n",
        "        \n",
        "        # generate two random Hermiatian matrices x & y\n",
        "        x = tf.complex(\n",
        "            tf.random.uniform([self.dim, self.dim], -1, 1, dtype=tf.float64),\n",
        "            tf.random.uniform([self.dim, self.dim], -1, 1, dtype=tf.float64)\n",
        "        )\n",
        "        y = tf.complex(\n",
        "            tf.random.uniform([self.dim, self.dim], -1, 1, dtype=tf.float64),\n",
        "            tf.random.uniform([self.dim, self.dim], -1, 1, dtype=tf.float64)\n",
        "        )\n",
        "        x = 1. / 2. * (x - tf.linalg.adjoint(x))\n",
        "        y = 1. / 2. * (y - tf.linalg.adjoint(y))\n",
        "\n",
        "        self.generators =  tf.stack([x, y])\n",
        "        self.ctrl_amplitudes = tf.Variable(\n",
        "            tf.zeros([no_of_steps, 2], dtype=tf.complex128),\n",
        "            dtype=tf.complex128\n",
        "        )\n",
        "\n",
        "        \"\"\"\n",
        "            self.contraction_array determines the neccessity for the extra\n",
        "            matrix multiplication step in the recursive method self.propagate()\n",
        "            when the intermediate computation array has length not divisible\n",
        "            by 2\n",
        "        \"\"\"\n",
        "        self.contraction_array = []\n",
        "        contraction_array_length = int(np.floor(np.log2(no_of_steps)))\n",
        "        temp_no_of_steps = no_of_steps\n",
        "        for i in range(contraction_array_length):\n",
        "            self.contraction_array.append(bool(np.mod(temp_no_of_steps, 2)))\n",
        "            temp_no_of_steps = np.floor(temp_no_of_steps / 2)\n",
        "  \n",
        "    \"\"\"\n",
        "        exponentials() computes a vector matrix exponential after multiplying\n",
        "        each self.ctrl_amplitudes row with a the vector of matrices in\n",
        "        self.generators\n",
        "    \"\"\"\n",
        "    def exponentials(self):\n",
        "        exponents = tf.linalg.tensordot(\n",
        "            self.ctrl_amplitudes, self.generators, 1\n",
        "        )\n",
        "        return tf.linalg.expm(exponents)\n",
        "\n",
        "     \n",
        "    \"\"\"\n",
        "        propagate  computes the final propagator by recursively multiplying\n",
        "        each odd element in the list of matrices with each even element --\n",
        "        if the length of the array is not divisible by 2 an extra computation\n",
        "        step is added\n",
        "    \"\"\"\n",
        "    def propagate(self):\n",
        "        step_exps = self.exponentials()\n",
        "        for is_odd in self.contraction_array:\n",
        "            if is_odd:\n",
        "                odd_exp = step_exps[-1, :, :]\n",
        "                step_exps = tf.linalg.matmul(\n",
        "                    step_exps[1::2, :, :], step_exps[0:-1:2, :, :]\n",
        "                )\n",
        "                step_exps = tf.concat([\n",
        "                    step_exps[0:-1, :, :],\n",
        "                    [tf.linalg.matmul(odd_exp, step_exps[-1, :, :])]\n",
        "                ], 0)\n",
        "            else:\n",
        "                step_exps = tf.linalg.matmul(\n",
        "                    step_exps[1::2, :, :], step_exps[0::2, :, :]\n",
        "                )\n",
        "        return tf.squeeze(step_exps)\n",
        "\n",
        "    \"\"\"\n",
        "        __call__ computes the final propagator fidelity squared with the\n",
        "        identity operator\n",
        "    \"\"\"\n",
        "    @tf.function\n",
        "    def __call__(self):\n",
        "        tr = tf.linalg.trace(self.propagate())\n",
        "        return 1 - tf.math.real(tr * tf.math.conj(tr)) / (self.dim ** 2)\n",
        "\n",
        "propagator = Propagator(10000, 20)\n",
        "\n",
        "start = time.time()\n",
        "fidelity = propagator()\n",
        "with tf.GradientTape() as tape:\n",
        "    fidelity = propagator()\n",
        "gradients = tape.gradient(fidelity, [propagator.ctrl_amplitudes])\n",
        "\n",
        "end = time.time()\n",
        "print(end-start)"
      ],
      "execution_count": 7,
      "outputs": [
        {
          "output_type": "stream",
          "text": [
            "6.882051467895508\n"
          ],
          "name": "stdout"
        }
      ]
    },
    {
      "cell_type": "code",
      "metadata": {
        "id": "7cqoTT662M7a",
        "colab_type": "code",
        "colab": {}
      },
      "source": [
        ""
      ],
      "execution_count": 0,
      "outputs": []
    }
  ]
}