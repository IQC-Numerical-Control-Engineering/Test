{
  "nbformat": 4,
  "nbformat_minor": 0,
  "metadata": {
    "colab": {
      "name": " TF Propagator",
      "provenance": [],
      "collapsed_sections": [],
      "include_colab_link": true
    },
    "kernelspec": {
      "name": "python3",
      "display_name": "Python 3"
    },
    "accelerator": "GPU"
  },
  "cells": [
    {
      "cell_type": "markdown",
      "metadata": {
        "id": "view-in-github",
        "colab_type": "text"
      },
      "source": [
        "<a href=\"https://colab.research.google.com/github/No-Qubit-Left-Behind/Control-Engineering-in-TF/blob/master/TF_GRAPE%203%20Level.ipynb\" target=\"_parent\"><img src=\"https://colab.research.google.com/assets/colab-badge.svg\" alt=\"Open In Colab\"/></a>"
      ]
    },
    {
      "cell_type": "markdown",
      "metadata": {
        "id": "0P4y5BajoGdE",
        "colab_type": "text"
      },
      "source": [
        "# Propagator - 5 Level System"
      ]
    },
    {
      "cell_type": "code",
      "metadata": {
        "id": "-j1ZIrGjl9MR",
        "colab_type": "code",
        "outputId": "0db212d7-7e7e-4cd2-f9cf-550d202c05fe",
        "colab": {
          "base_uri": "https://localhost:8080/",
          "height": 51
        }
      },
      "source": [
        "from __future__ import absolute_import, division, print_function, unicode_literals\n",
        "%tensorflow_version 2.x\n",
        "import tensorflow as tf\n",
        "import numpy as np\n",
        "import time\n",
        "print(tf.__version__)"
      ],
      "execution_count": 0,
      "outputs": [
        {
          "output_type": "stream",
          "text": [
            "TensorFlow 2.x selected.\n",
            "2.1.0\n"
          ],
          "name": "stdout"
        }
      ]
    },
    {
      "cell_type": "code",
      "metadata": {
        "colab_type": "code",
        "outputId": "a4a94389-00d6-4fbf-937a-c88d2a5f2ea0",
        "id": "Yhxs-y4HYfC5",
        "colab": {
          "base_uri": "https://localhost:8080/",
          "height": 1000
        }
      },
      "source": [
        "class Propagator:\n",
        "    def __init__(self, no_of_steps, delta_t):\n",
        "        self.delta_t = delta_t\n",
        "        self.x = tf.constant(\n",
        "            [[0, 1], [1, 0]], dtype=tf.complex128\n",
        "        )\n",
        "        self.y = tf.constant(\n",
        "            [[0 + 0j, 0 - 1j], [0 + 1j, 0 + 0j]], dtype=tf.complex128\n",
        "        )\n",
        "\n",
        "        self.generators =  tf.stack([self.x, self.y])\n",
        "        self.ctrl_amplitudes = tf.Variable(\n",
        "            tf.zeros([no_of_steps, 2], dtype=tf.float64), dtype=tf.float64\n",
        "        )\n",
        "\n",
        "        \"\"\"\n",
        "            self.contraction_array determines the neccessity for the extra\n",
        "            matrix multiplication step in the recursive method self.propagate()\n",
        "            when the intermediate computation array has length not divisible\n",
        "            by 2\n",
        "        \"\"\"\n",
        "        self.contraction_array = []\n",
        "        contraction_array_length = int(np.floor(np.log2(no_of_steps)))\n",
        "        temp_no_of_steps = no_of_steps\n",
        "        for i in range(contraction_array_length):\n",
        "            self.contraction_array.append(bool(np.mod(temp_no_of_steps, 2)))\n",
        "            temp_no_of_steps = np.floor(temp_no_of_steps / 2)\n",
        "  \n",
        "    \"\"\"\n",
        "        exponentials() computes a vector matrix exponential after multiplying\n",
        "        each self.ctrl_amplitudes row with a the vector of matrices in\n",
        "        self.generators\n",
        "    \"\"\"\n",
        "    def exponentials(self):\n",
        "        regularized_amplitudes = 1 / np.sqrt(2) * tf.math.tanh(\n",
        "            self.ctrl_amplitudes\n",
        "        )\n",
        "\n",
        "        exponents = tf.linalg.tensordot(\n",
        "            tf.cast(regularized_amplitudes, dtype=tf.complex128),\n",
        "            -2 * np.pi *(0 + 1j) * self.delta_t * self.generators, 1\n",
        "        )\n",
        "        return tf.linalg.expm(exponents)\n",
        "    \n",
        "    \"\"\"\n",
        "        propagate  computes the final propagator by recursively multiplying\n",
        "        each odd element in the list of matrices with each even element --\n",
        "        if the length of the array is not divisible by 2 an extra computation\n",
        "        step is added\n",
        "    \"\"\"\n",
        "    def propagate(self):\n",
        "        step_exps = self.exponentials()\n",
        "        for is_odd in self.contraction_array:\n",
        "            if is_odd:\n",
        "                odd_exp = step_exps[-1, :, :]\n",
        "                step_exps = tf.linalg.matmul(\n",
        "                    step_exps[1::2, :, :], step_exps[0:-1:2, :, :]\n",
        "                )\n",
        "                step_exps = tf.concat([\n",
        "                    step_exps[0:-1, :, :],\n",
        "                    [tf.linalg.matmul(odd_exp, step_exps[-1, :, :])]\n",
        "                ], 0)\n",
        "            else:\n",
        "                step_exps = tf.linalg.matmul(\n",
        "                    step_exps[1::2, :, :], step_exps[0::2, :, :]\n",
        "                )\n",
        "        return tf.squeeze(step_exps)\n",
        "\n",
        "    \"\"\"\n",
        "        __call__ computes the final propagator fidelity squared with the\n",
        "        identity operator\n",
        "    \"\"\"\n",
        "    @tf.function\n",
        "    def infidelity(self):\n",
        "        propagator = self.propagate()\n",
        "        tr = tf.linalg.trace(tf.linalg.matmul(self.x, propagator))\n",
        "        return 1 - tf.math.real(tr * tf.math.conj(tr)) / (2 ** 2)\n",
        "\n",
        "propagator = Propagator(1000, 0.001)\n",
        "\n",
        "optimizer = tf.keras.optimizers.Adam(0.01)\n",
        "\n",
        "propagator.ctrl_amplitudes.assign(\n",
        "    tf.random.uniform([1000, 2], -1, 1, dtype=tf.float64)\n",
        ")\n",
        "\n",
        "def optimization_step():\n",
        "    with tf.GradientTape() as tape:\n",
        "        infidelity = propagator.infidelity()\n",
        "    gradients = tape.gradient(infidelity, [propagator.ctrl_amplitudes])\n",
        "    optimizer.apply_gradients(zip(gradients, [propagator.ctrl_amplitudes]))\n",
        "    return infidelity\n",
        "\n",
        "steps = range(100)\n",
        "for step in steps:\n",
        "    current_infidelity = optimization_step()\n",
        "    print('step %2d: infidelity=%2.5f' %\n",
        "          (step, current_infidelity))\n",
        "    \n",
        "propagator.ctrl_amplitudes.numpy()"
      ],
      "execution_count": 0,
      "outputs": [
        {
          "output_type": "stream",
          "text": [
            "step  0: infidelity=0.99978\n",
            "step  1: infidelity=0.99774\n",
            "step  2: infidelity=0.99392\n",
            "step  3: infidelity=0.98818\n",
            "step  4: infidelity=0.98045\n",
            "step  5: infidelity=0.97065\n",
            "step  6: infidelity=0.95875\n",
            "step  7: infidelity=0.94472\n",
            "step  8: infidelity=0.92853\n",
            "step  9: infidelity=0.91018\n",
            "step 10: infidelity=0.88966\n",
            "step 11: infidelity=0.86699\n",
            "step 12: infidelity=0.84222\n",
            "step 13: infidelity=0.81545\n",
            "step 14: infidelity=0.78676\n",
            "step 15: infidelity=0.75626\n",
            "step 16: infidelity=0.72407\n",
            "step 17: infidelity=0.69036\n",
            "step 18: infidelity=0.65532\n",
            "step 19: infidelity=0.61916\n",
            "step 20: infidelity=0.58210\n",
            "step 21: infidelity=0.54436\n",
            "step 22: infidelity=0.50620\n",
            "step 23: infidelity=0.46792\n",
            "step 24: infidelity=0.42977\n",
            "step 25: infidelity=0.39203\n",
            "step 26: infidelity=0.35499\n",
            "step 27: infidelity=0.31894\n",
            "step 28: infidelity=0.28413\n",
            "step 29: infidelity=0.25081\n",
            "step 30: infidelity=0.21921\n",
            "step 31: infidelity=0.18952\n",
            "step 32: infidelity=0.16191\n",
            "step 33: infidelity=0.13652\n",
            "step 34: infidelity=0.11344\n",
            "step 35: infidelity=0.09272\n",
            "step 36: infidelity=0.07438\n",
            "step 37: infidelity=0.05838\n",
            "step 38: infidelity=0.04467\n",
            "step 39: infidelity=0.03316\n",
            "step 40: infidelity=0.02370\n",
            "step 41: infidelity=0.01613\n",
            "step 42: infidelity=0.01029\n",
            "step 43: infidelity=0.00598\n",
            "step 44: infidelity=0.00299\n",
            "step 45: infidelity=0.00114\n",
            "step 46: infidelity=0.00020\n",
            "step 47: infidelity=0.00001\n",
            "step 48: infidelity=0.00038\n",
            "step 49: infidelity=0.00115\n",
            "step 50: infidelity=0.00218\n",
            "step 51: infidelity=0.00334\n",
            "step 52: infidelity=0.00453\n",
            "step 53: infidelity=0.00568\n",
            "step 54: infidelity=0.00671\n",
            "step 55: infidelity=0.00758\n",
            "step 56: infidelity=0.00827\n",
            "step 57: infidelity=0.00875\n",
            "step 58: infidelity=0.00903\n",
            "step 59: infidelity=0.00910\n",
            "step 60: infidelity=0.00899\n",
            "step 61: infidelity=0.00871\n",
            "step 62: infidelity=0.00829\n",
            "step 63: infidelity=0.00776\n",
            "step 64: infidelity=0.00714\n",
            "step 65: infidelity=0.00645\n",
            "step 66: infidelity=0.00573\n",
            "step 67: infidelity=0.00500\n",
            "step 68: infidelity=0.00428\n",
            "step 69: infidelity=0.00359\n",
            "step 70: infidelity=0.00294\n",
            "step 71: infidelity=0.00235\n",
            "step 72: infidelity=0.00182\n",
            "step 73: infidelity=0.00137\n",
            "step 74: infidelity=0.00098\n",
            "step 75: infidelity=0.00066\n",
            "step 76: infidelity=0.00042\n",
            "step 77: infidelity=0.00023\n",
            "step 78: infidelity=0.00011\n",
            "step 79: infidelity=0.00003\n",
            "step 80: infidelity=0.00000\n",
            "step 81: infidelity=0.00000\n",
            "step 82: infidelity=0.00003\n",
            "step 83: infidelity=0.00008\n",
            "step 84: infidelity=0.00013\n",
            "step 85: infidelity=0.00019\n",
            "step 86: infidelity=0.00024\n",
            "step 87: infidelity=0.00029\n",
            "step 88: infidelity=0.00032\n",
            "step 89: infidelity=0.00035\n",
            "step 90: infidelity=0.00036\n",
            "step 91: infidelity=0.00036\n",
            "step 92: infidelity=0.00035\n",
            "step 93: infidelity=0.00033\n",
            "step 94: infidelity=0.00030\n",
            "step 95: infidelity=0.00027\n",
            "step 96: infidelity=0.00024\n",
            "step 97: infidelity=0.00020\n",
            "step 98: infidelity=0.00017\n",
            "step 99: infidelity=0.00014\n"
          ],
          "name": "stdout"
        },
        {
          "output_type": "execute_result",
          "data": {
            "text/plain": [
              "array([[-0.08780966,  0.87139653],\n",
              "       [-0.57102707, -0.00321472],\n",
              "       [-0.1454598 ,  0.18767674],\n",
              "       ...,\n",
              "       [ 0.01242097,  0.06165425],\n",
              "       [ 0.3460218 ,  0.84387958],\n",
              "       [-0.92454672, -0.29149385]])"
            ]
          },
          "metadata": {
            "tags": []
          },
          "execution_count": 2
        }
      ]
    },
    {
      "cell_type": "code",
      "metadata": {
        "id": "xJqkWBUEE_og",
        "colab_type": "code",
        "colab": {}
      },
      "source": [
        ""
      ],
      "execution_count": 0,
      "outputs": []
    }
  ]
}