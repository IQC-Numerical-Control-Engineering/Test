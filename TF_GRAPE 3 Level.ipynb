{
  "nbformat": 4,
  "nbformat_minor": 0,
  "metadata": {
    "colab": {
      "name": " TF Propagator",
      "provenance": [],
      "collapsed_sections": [],
      "include_colab_link": true
    },
    "kernelspec": {
      "name": "python3",
      "display_name": "Python 3"
    },
    "accelerator": "GPU"
  },
  "cells": [
    {
      "cell_type": "markdown",
      "metadata": {
        "id": "view-in-github",
        "colab_type": "text"
      },
      "source": [
        "<a href=\"https://colab.research.google.com/github/No-Qubit-Left-Behind/Control-Engineering-in-TF/blob/master/TF_GRAPE%203%20Level.ipynb\" target=\"_parent\"><img src=\"https://colab.research.google.com/assets/colab-badge.svg\" alt=\"Open In Colab\"/></a>"
      ]
    },
    {
      "cell_type": "markdown",
      "metadata": {
        "id": "0P4y5BajoGdE",
        "colab_type": "text"
      },
      "source": [
        "# Propagator - 3 Level System"
      ]
    },
    {
      "cell_type": "code",
      "metadata": {
        "id": "70gU1ua9YuxB",
        "colab_type": "code",
        "colab": {
          "base_uri": "https://localhost:8080/",
          "height": 513
        },
        "outputId": "9b1567ba-53f8-471f-df43-888acf501cc0"
      },
      "source": [
        "!pip install ARC-Alkali-Rydberg-Calculator\n",
        "!pip install qutip"
      ],
      "execution_count": 4,
      "outputs": [
        {
          "output_type": "stream",
          "text": [
            "Requirement already satisfied: ARC-Alkali-Rydberg-Calculator in /usr/local/lib/python3.6/dist-packages (2.2.13)\n",
            "Requirement already satisfied: numpy>=1.16.0 in /usr/local/lib/python3.6/dist-packages (from ARC-Alkali-Rydberg-Calculator) (1.18.2)\n",
            "Requirement already satisfied: matplotlib>=1.5.3 in /usr/local/lib/python3.6/dist-packages (from ARC-Alkali-Rydberg-Calculator) (3.2.1)\n",
            "Requirement already satisfied: scipy>=0.18.1 in /usr/local/lib/python3.6/dist-packages (from ARC-Alkali-Rydberg-Calculator) (1.4.1)\n",
            "Requirement already satisfied: sympy>=1.1.1 in /usr/local/lib/python3.6/dist-packages (from ARC-Alkali-Rydberg-Calculator) (1.1.1)\n",
            "Requirement already satisfied: lmfit>=0.9.0 in /usr/local/lib/python3.6/dist-packages (from ARC-Alkali-Rydberg-Calculator) (1.0.0)\n",
            "Requirement already satisfied: python-dateutil>=2.1 in /usr/local/lib/python3.6/dist-packages (from matplotlib>=1.5.3->ARC-Alkali-Rydberg-Calculator) (2.8.1)\n",
            "Requirement already satisfied: cycler>=0.10 in /usr/local/lib/python3.6/dist-packages (from matplotlib>=1.5.3->ARC-Alkali-Rydberg-Calculator) (0.10.0)\n",
            "Requirement already satisfied: pyparsing!=2.0.4,!=2.1.2,!=2.1.6,>=2.0.1 in /usr/local/lib/python3.6/dist-packages (from matplotlib>=1.5.3->ARC-Alkali-Rydberg-Calculator) (2.4.6)\n",
            "Requirement already satisfied: kiwisolver>=1.0.1 in /usr/local/lib/python3.6/dist-packages (from matplotlib>=1.5.3->ARC-Alkali-Rydberg-Calculator) (1.1.0)\n",
            "Requirement already satisfied: mpmath>=0.19 in /usr/local/lib/python3.6/dist-packages (from sympy>=1.1.1->ARC-Alkali-Rydberg-Calculator) (1.1.0)\n",
            "Requirement already satisfied: asteval>=0.9.16 in /usr/local/lib/python3.6/dist-packages (from lmfit>=0.9.0->ARC-Alkali-Rydberg-Calculator) (0.9.18)\n",
            "Requirement already satisfied: uncertainties>=3.0.1 in /usr/local/lib/python3.6/dist-packages (from lmfit>=0.9.0->ARC-Alkali-Rydberg-Calculator) (3.1.2)\n",
            "Requirement already satisfied: six>=1.5 in /usr/local/lib/python3.6/dist-packages (from python-dateutil>=2.1->matplotlib>=1.5.3->ARC-Alkali-Rydberg-Calculator) (1.12.0)\n",
            "Requirement already satisfied: setuptools in /usr/local/lib/python3.6/dist-packages (from kiwisolver>=1.0.1->matplotlib>=1.5.3->ARC-Alkali-Rydberg-Calculator) (46.0.0)\n",
            "Collecting qutip\n",
            "\u001b[?25l  Downloading https://files.pythonhosted.org/packages/4f/36/90681586849b4b87b63e4b12353d615628887f0cfe02a218f6b128d3a701/qutip-4.5.0.tar.gz (3.5MB)\n",
            "\u001b[K     |████████████████████████████████| 3.5MB 315kB/s \n",
            "\u001b[?25hRequirement already satisfied: numpy>=1.12 in /usr/local/lib/python3.6/dist-packages (from qutip) (1.18.2)\n",
            "Requirement already satisfied: scipy>=1.0 in /usr/local/lib/python3.6/dist-packages (from qutip) (1.4.1)\n",
            "Requirement already satisfied: cython>=0.21 in /usr/local/lib/python3.6/dist-packages (from qutip) (0.29.15)\n",
            "Building wheels for collected packages: qutip\n",
            "  Building wheel for qutip (setup.py) ... \u001b[?25l\u001b[?25hdone\n",
            "  Created wheel for qutip: filename=qutip-4.5.0-cp36-cp36m-linux_x86_64.whl size=12882883 sha256=c602e64d337ecf83063674cc37b1de3100a9f3b389d31b5facc48925bab42b0c\n",
            "  Stored in directory: /root/.cache/pip/wheels/c9/85/e8/3fbad9a0816141b4c5f1d73d8a880ed91265fea84192cbe37b\n",
            "Successfully built qutip\n",
            "Installing collected packages: qutip\n",
            "Successfully installed qutip-4.5.0\n"
          ],
          "name": "stdout"
        }
      ]
    },
    {
      "cell_type": "code",
      "metadata": {
        "id": "-j1ZIrGjl9MR",
        "colab_type": "code",
        "outputId": "f9294eac-c71f-4cc2-d0d1-1fb1f6d88b81",
        "colab": {
          "base_uri": "https://localhost:8080/",
          "height": 34
        }
      },
      "source": [
        "from __future__ import absolute_import, division, print_function, unicode_literals\n",
        "%tensorflow_version 2.x\n",
        "import tensorflow as tf\n",
        "import numpy as np\n",
        "import time\n",
        "from arc import *\n",
        "from qutip import *\n",
        "import matplotlib.pyplot as plt\n",
        "\n",
        "\n",
        "print(tf.__version__)"
      ],
      "execution_count": 5,
      "outputs": [
        {
          "output_type": "stream",
          "text": [
            "2.1.0\n"
          ],
          "name": "stdout"
        }
      ]
    },
    {
      "cell_type": "code",
      "metadata": {
        "id": "8K78mMq-dNh5",
        "colab_type": "code",
        "colab": {}
      },
      "source": [
        "######Set all systm parameters: (using ARC)\n",
        "GHz = 1E9\n",
        "MHz = 1E6 \n",
        "kHz = 1E3\n",
        "\n",
        "ms = 1E-3\n",
        "us = 1E-6\n",
        "ns = 1E-9\n",
        "\n",
        "atom=Rubidium()\n",
        "\n",
        "##Intermediate excited state: 6P3/2\n",
        "n_i = 6\n",
        "l_i = 1\n",
        "j_i = 1.5\n",
        "T_i = atom.getStateLifetime(n_i,l_i,j_i)\n",
        "Gamma_ig = 1/T_i #Decay rate of intermediate state\n",
        "\n",
        "##Rydberg state: 70 S1/2\n",
        "n_r = 70\n",
        "l_r = 0\n",
        "j_r = 0.5\n",
        "#Account for blackbody stimulation of Rydberg state to nearby states\n",
        "#Total lifetime is blackbody + radiative: 1/T_rtotal = 1/T_rBB + 1/T_rRadiative\n",
        "T_rTot = atom.getStateLifetime(\n",
        "    n_r,l_r,j_r, temperature= 300, includeLevelsUpTo = n_r + 20\n",
        "    ) \n",
        "#Radiative lifetime: decay to other ground state (so at 0 K temp)\n",
        "T_rRad = atom.getStateLifetime(n_r,l_r,j_r, temperature= 0) \n",
        "#Radiative transition from rydberg to intermediate\n",
        "T_ri = 1/atom.getTransitionRate(n_r,l_r,j_r, n_i,l_i,j_i, temperature=0) \n",
        "T_rgp = 1/(1/T_rRad - 1/T_ri) #radiative transition from rydberg to dark ground states\n",
        "\n",
        "#Black body stimulated: Transition from rydberg to nearby rydberg\n",
        "T_rBB = 1/(1/T_rTot - 1/T_rRad)\n",
        "\n",
        "#Set decay rate to each state\n",
        "Gamma_ri = 1/T_ri\n",
        "Gamma_rrp = 1/T_rBB # r to r' (r prime)\n",
        "Gamma_rgp = 1/T_rgp #rydberg to g' (ground prime dark states)\n",
        "\n",
        "Gamma_rTot = Gamma_ri + Gamma_rrp + Gamma_rgp #Total decay from Rydberg\n",
        "\n",
        "\n",
        "###Set system parameters:\n",
        "Rabi_1 = 2*np.pi * 174 * MHz #Blue Rabi freq.\n",
        "Rabi_2 = 2*np.pi * 115 * MHz #Red Rabi freq.\n",
        "Delta_1 = 2*np.pi * 1000 * MHz #Detuning for 3 lvl system at the i state\n",
        "\n",
        "del_total = 2*np.pi * 0 * MHz #2 photon detuning\n",
        "\n",
        "##Set time grid:\n",
        "t_0 = 0 #Initial time\n",
        "t_f = 200 * ns #Final time\n",
        "nt = 2000 #number of time points\n",
        "delta_t = (t_f - t_0)/nt #time difference between steps\n",
        "tlist = np.linspace(0, t_f, nt)\n"
      ],
      "execution_count": 0,
      "outputs": []
    },
    {
      "cell_type": "code",
      "metadata": {
        "colab_type": "code",
        "outputId": "4d6fc30a-e236-47c2-f83b-78d83c0c7f28",
        "id": "YbNmcJf7DChO",
        "colab": {
          "base_uri": "https://localhost:8080/",
          "height": 873
        }
      },
      "source": [
        "class Propagator:\n",
        "    def __init__(self, no_of_steps, delta_t, del_total, Delta_1, Rabi_1, Rabi_2, Gamma_r, Gamma_i):\n",
        "        self.delta_t = delta_t\n",
        "        self.Rabi_1 = Rabi_1 #Set maximum control amplitude\n",
        "        self.Rabi_2 = Rabi_2 #Set maximum control amplitude\n",
        "        self.Delta_1 = Delta_1 #Set maximum control amplitude\n",
        "        self.del_total = del_total\n",
        "        self.Gamma_r = Gamma_r\n",
        "        self.Gamma_i = Gamma_i\n",
        "        \"\"\"\n",
        "            Setting initial and target states\n",
        "        \"\"\"        \n",
        "        self.psi_0 = tf.Variable(tf.zeros([5, 1]))\n",
        "        self.psi_t = tf.Variable(tf.zeros([5, 1]))\n",
        "        \n",
        "        \"\"\"\n",
        "            There are 5 control amplitudes: real Rabi_1, imaginary Rabi_1, \n",
        "            real Rabi_2, imaginary Rabi_2, Delta_1\n",
        "        \"\"\"\n",
        "        self.ctrl_amplitudes = tf.Variable(\n",
        "            tf.zeros([no_of_steps, 5], dtype=tf.float64), dtype=tf.float64\n",
        "        )\n",
        "\n",
        "        \"\"\"\n",
        "            self.contraction_array determines the neccessity for the extra\n",
        "            matrix multiplication step in the recursive method self.propagate()\n",
        "            when the intermediate computation array has length not divisible\n",
        "            by 2\n",
        "        \"\"\"\n",
        "        self.contraction_array = []\n",
        "        contraction_array_length = int(np.floor(np.log2(no_of_steps)))\n",
        "        temp_no_of_steps = no_of_steps\n",
        "\n",
        "        for i in range(contraction_array_length):\n",
        "            self.contraction_array.append(bool(np.mod(temp_no_of_steps, 2)))\n",
        "            temp_no_of_steps = np.floor(temp_no_of_steps / 2)\n",
        "  \n",
        "        \"\"\"\n",
        "            nLevelAtomBasis creates a basis set for an n level atom as qutip\n",
        "            quantum objects\n",
        "        \"\"\"\n",
        "    def nLevelAtomBasis(self, n):\n",
        "        states = []\n",
        "        for n_l in range(0,n):\n",
        "            states.append(basis(n, n_l))\n",
        "        return np.array(states, dtype=object)\n",
        "    \n",
        "    def Hamiltonian(self):\n",
        "        \"\"\"Ladder-system Hamiltonian: Outputs a Qutip quantum object\"\"\"\n",
        "        #Set 5 level sysem operators: includes dark ground and Rydberg states\n",
        "        g_prime, r_prime, g, i, r = nLevelAtomBasis(5)\n",
        "        \n",
        "        sig_gpgp = g_prime * g_prime.dag()\n",
        "        sig_gg = g * g.dag()\n",
        "        sig_ii = i * i.dag()\n",
        "        sig_rr = r * r.dag()\n",
        "        sig_ir = i * r.dag()\n",
        "        sig_gi = g * i.dag()\n",
        "        sig_gpi = g_prime * i.dag()\n",
        "        sig_rpr = r_prime * r.dag()\n",
        "        sig_gpr = g_prime * r.dag()\n",
        "        sig_gpgp = g_prime * g.dag()\n",
        "        \n",
        "        #Set projectors for finding expectation values:\n",
        "        proj_g = sig_gg\n",
        "        proj_i = sig_ii\n",
        "        proj_r = sig_rr\n",
        "            \n",
        "        #Set Hamiltonian parts:    \n",
        "        H0 = - 1j * self.Gamma_i / 2 * sig_ii - (\n",
        "            self.del_total + 1j * self.Gamma_r / 2\n",
        "            ) * sig_rr\n",
        "        H0_detune = - sig_ii\n",
        "        \n",
        "        H1_re = - 1/2 * (sig_gi + sig_gi.dag())\n",
        "        H1_im = - 1/2 * 1j * (sig_gi - sig_gi.dag())\n",
        "        H2_re = - 1/2 * (sig_ir + sig_ir.dag())\n",
        "        H2_im = - 1/2 * 1j * (sig_ir - sig_ir.dag())\n",
        "\n",
        "        #Note that H0 does not have a mutliplied control amplitude\n",
        "        H = [H0, H0_detune, H1_re, H1_im, H2_re, H2_im]\n",
        "\n",
        "        return H\n",
        "\n",
        "    \"\"\"\n",
        "        exponentials() computes a vector matrix exponential after multiplying\n",
        "        each self.ctrl_amplitudes row with a the vector of matrices in\n",
        "        self.generators\n",
        "    \"\"\"\n",
        "    def exponentials(self):\n",
        "        regularized_amplitudes = 1 / np.sqrt(2) * tf.math.tanh(\n",
        "            self.ctrl_amplitudes\n",
        "        )\n",
        "        #Take Qutip quantum object and cast to tensor objects\n",
        "        Hamiltonian = np.array(self.Hamiltonian(), dtype=np.complex128)\n",
        "        Hamiltonian = tf.cast(Hamiltonian, dtype=np.complex128)\n",
        "\n",
        "        #First element in the Hamiltonian list is not multiplied by a\n",
        "        #control amplitude\n",
        "        exponents = (\n",
        "            Hamiltonian[0] + tf.linalg.tensordot(\n",
        "                tf.cast(regularized_amplitudes, dtype=tf.complex128), \n",
        "                - 1j * Hamiltonian, 1\n",
        "                )\n",
        "        ) * self.delta_t\n",
        "        return tf.linalg.expm(exponents)\n",
        "    \n",
        "    \"\"\"\n",
        "        propagate  computes the final propagator by recursively multiplying\n",
        "        each odd element in the list of matrices with each even element --\n",
        "        if the length of the array is not divisible by 2 an extra computation\n",
        "        step is added\n",
        "    \"\"\"\n",
        "    def propagate(self):\n",
        "        step_exps = self.exponentials()\n",
        "        for is_odd in self.contraction_array:\n",
        "            if is_odd:\n",
        "                odd_exp = step_exps[-1, :, :]\n",
        "                step_exps = tf.linalg.matmul(\n",
        "                    step_exps[1::2, :, :], step_exps[0:-1:2, :, :]\n",
        "                )\n",
        "                step_exps = tf.concat([\n",
        "                    step_exps[0:-1, :, :],\n",
        "                    [tf.linalg.matmul(odd_exp, step_exps[-1, :, :])]\n",
        "                ], 0)\n",
        "            else:\n",
        "                step_exps = tf.linalg.matmul(\n",
        "                    step_exps[1::2, :, :], step_exps[0::2, :, :]\n",
        "                )\n",
        "        return tf.squeeze(step_exps)\n",
        "\n",
        "    \"\"\"\n",
        "        __call__ computes the final propagator fidelity squared with the\n",
        "        identity operator\n",
        "    \"\"\"\n",
        "    @tf.function\n",
        "    def infidelity(self):\n",
        "        propagator = self.propagate()\n",
        "        psi_0 = tf.cast(self.psi_0, dtype=np.complex128)\n",
        "        psi_t = tf.cast(self.psi_t, dtype=np.complex128)\n",
        "\n",
        "        final_state = tf.linalg.matvec(propagator * psi_0)\n",
        "        overlap = tf.tensordot(tf.math.conj(final_state), psi_t,  axes=1)\n",
        "        return 1 - tf.math.conj(overlap) * overlap\n",
        "\n",
        "\n",
        "#Set propagator\n",
        "propagator = Propagator(nt, delta_t, del_total, Delta_1, Rabi_1, Rabi_2, Gamma_rTot, Gamma_ig)\n",
        "\n",
        "#Set initial and target states:\n",
        "g_prime, r_prime, g, i, r = propagator.nLevelAtomBasis(5)\n",
        "psi_0 = np.array(g, dtype = np.complex128)\n",
        "psi_t = np.array(r, dtype = np.complex128)\n",
        "\n",
        "propagator.psi_0.assign(psi_0)\n",
        "propagator.psi_t.assign(psi_t)\n",
        "\n",
        "#Set initial control amplitude guesses\n",
        "ctrl_amplitudes_initial = tf.random.uniform([nt, 5], -10, 10, dtype=tf.float64)\n",
        "propagator.ctrl_amplitudes.assign(ctrl_amplitudes_initial)\n",
        "\n",
        "#Plot initial guess pulses:\n",
        "##Real part of pulse:\n",
        "labels = ['$\\Delta_1$', 'Re($\\Omega_1$)', 'Im($\\Omega_1$)', 'Re($\\Omega_2$)', 'Re($\\Omega_2$)']\n",
        "plt.figure()\n",
        "ind = 0\n",
        "for amplitdue in tf.transpose(ctrl_amplitudes_initial):\n",
        "    plt.plot(tlist/ns, amplitdue, label = labels[ind])\n",
        "    ind += 1\n",
        "\n",
        "plt.xlabel('Time (ns)')\n",
        "plt.ylabel('Rabi Frequency Ampltidue')\n",
        "plt.legend()\n",
        "\n",
        "#Find infidelity using propagator\n",
        "infidelity_prop = propagator.infidelity()\n",
        "# infidelity_prop\n",
        "\n",
        "# optimizer = tf.keras.optimizers.Adam(0.01)\n",
        "\n",
        "# def optimization_step():\n",
        "#     with tf.GradientTape() as tape:\n",
        "#         infidelity = propagator.infidelity()\n",
        "#     gradients = tape.gradient(infidelity, [propagator.ctrl_amplitudes])\n",
        "#     optimizer.apply_gradients(zip(gradients, [propagator.ctrl_amplitudes]))\n",
        "#     return infidelity\n",
        "\n",
        "# steps = range(100)\n",
        "# for step in steps:\n",
        "#     current_infidelity = optimization_step()\n",
        "#     print('step %2d: infidelity=%2.5f' %\n",
        "#           (step, current_infidelity))\n",
        "    \n",
        "# propagator.ctrl_amplitudes.numpy()\n"
      ],
      "execution_count": 175,
      "outputs": [
        {
          "output_type": "stream",
          "text": [
            "/usr/local/lib/python3.6/dist-packages/tensorflow_core/python/framework/constant_op.py:96: ComplexWarning: Casting complex values to real discards the imaginary part\n",
            "  return ops.EagerTensor(value, ctx.device_name, dtype)\n"
          ],
          "name": "stderr"
        },
        {
          "output_type": "error",
          "ename": "TypeError",
          "evalue": "ignored",
          "traceback": [
            "\u001b[0;31m---------------------------------------------------------------------------\u001b[0m",
            "\u001b[0;31mTypeError\u001b[0m                                 Traceback (most recent call last)",
            "\u001b[0;32m<ipython-input-175-0f5941cf5be4>\u001b[0m in \u001b[0;36m<module>\u001b[0;34m()\u001b[0m\n\u001b[1;32m    174\u001b[0m \u001b[0;34m\u001b[0m\u001b[0m\n\u001b[1;32m    175\u001b[0m \u001b[0;31m#Find infidelity using propagator\u001b[0m\u001b[0;34m\u001b[0m\u001b[0;34m\u001b[0m\u001b[0;34m\u001b[0m\u001b[0m\n\u001b[0;32m--> 176\u001b[0;31m \u001b[0minfidelity_prop\u001b[0m \u001b[0;34m=\u001b[0m \u001b[0mpropagator\u001b[0m\u001b[0;34m.\u001b[0m\u001b[0minfidelity\u001b[0m\u001b[0;34m(\u001b[0m\u001b[0;34m)\u001b[0m\u001b[0;34m\u001b[0m\u001b[0;34m\u001b[0m\u001b[0m\n\u001b[0m\u001b[1;32m    177\u001b[0m \u001b[0;31m# infidelity_prop\u001b[0m\u001b[0;34m\u001b[0m\u001b[0;34m\u001b[0m\u001b[0;34m\u001b[0m\u001b[0m\n\u001b[1;32m    178\u001b[0m \u001b[0;34m\u001b[0m\u001b[0m\n",
            "\u001b[0;32m/usr/local/lib/python3.6/dist-packages/tensorflow_core/python/eager/def_function.py\u001b[0m in \u001b[0;36m__call__\u001b[0;34m(self, *args, **kwds)\u001b[0m\n\u001b[1;32m    566\u001b[0m         \u001b[0mxla_context\u001b[0m\u001b[0;34m.\u001b[0m\u001b[0mExit\u001b[0m\u001b[0;34m(\u001b[0m\u001b[0;34m)\u001b[0m\u001b[0;34m\u001b[0m\u001b[0;34m\u001b[0m\u001b[0m\n\u001b[1;32m    567\u001b[0m     \u001b[0;32melse\u001b[0m\u001b[0;34m:\u001b[0m\u001b[0;34m\u001b[0m\u001b[0;34m\u001b[0m\u001b[0m\n\u001b[0;32m--> 568\u001b[0;31m       \u001b[0mresult\u001b[0m \u001b[0;34m=\u001b[0m \u001b[0mself\u001b[0m\u001b[0;34m.\u001b[0m\u001b[0m_call\u001b[0m\u001b[0;34m(\u001b[0m\u001b[0;34m*\u001b[0m\u001b[0margs\u001b[0m\u001b[0;34m,\u001b[0m \u001b[0;34m**\u001b[0m\u001b[0mkwds\u001b[0m\u001b[0;34m)\u001b[0m\u001b[0;34m\u001b[0m\u001b[0;34m\u001b[0m\u001b[0m\n\u001b[0m\u001b[1;32m    569\u001b[0m \u001b[0;34m\u001b[0m\u001b[0m\n\u001b[1;32m    570\u001b[0m     \u001b[0;32mif\u001b[0m \u001b[0mtracing_count\u001b[0m \u001b[0;34m==\u001b[0m \u001b[0mself\u001b[0m\u001b[0;34m.\u001b[0m\u001b[0m_get_tracing_count\u001b[0m\u001b[0;34m(\u001b[0m\u001b[0;34m)\u001b[0m\u001b[0;34m:\u001b[0m\u001b[0;34m\u001b[0m\u001b[0;34m\u001b[0m\u001b[0m\n",
            "\u001b[0;32m/usr/local/lib/python3.6/dist-packages/tensorflow_core/python/eager/def_function.py\u001b[0m in \u001b[0;36m_call\u001b[0;34m(self, *args, **kwds)\u001b[0m\n\u001b[1;32m    613\u001b[0m       \u001b[0;31m# This is the first call of __call__, so we have to initialize.\u001b[0m\u001b[0;34m\u001b[0m\u001b[0;34m\u001b[0m\u001b[0;34m\u001b[0m\u001b[0m\n\u001b[1;32m    614\u001b[0m       \u001b[0minitializers\u001b[0m \u001b[0;34m=\u001b[0m \u001b[0;34m[\u001b[0m\u001b[0;34m]\u001b[0m\u001b[0;34m\u001b[0m\u001b[0;34m\u001b[0m\u001b[0m\n\u001b[0;32m--> 615\u001b[0;31m       \u001b[0mself\u001b[0m\u001b[0;34m.\u001b[0m\u001b[0m_initialize\u001b[0m\u001b[0;34m(\u001b[0m\u001b[0margs\u001b[0m\u001b[0;34m,\u001b[0m \u001b[0mkwds\u001b[0m\u001b[0;34m,\u001b[0m \u001b[0madd_initializers_to\u001b[0m\u001b[0;34m=\u001b[0m\u001b[0minitializers\u001b[0m\u001b[0;34m)\u001b[0m\u001b[0;34m\u001b[0m\u001b[0;34m\u001b[0m\u001b[0m\n\u001b[0m\u001b[1;32m    616\u001b[0m     \u001b[0;32mfinally\u001b[0m\u001b[0;34m:\u001b[0m\u001b[0;34m\u001b[0m\u001b[0;34m\u001b[0m\u001b[0m\n\u001b[1;32m    617\u001b[0m       \u001b[0;31m# At this point we know that the initialization is complete (or less\u001b[0m\u001b[0;34m\u001b[0m\u001b[0;34m\u001b[0m\u001b[0;34m\u001b[0m\u001b[0m\n",
            "\u001b[0;32m/usr/local/lib/python3.6/dist-packages/tensorflow_core/python/eager/def_function.py\u001b[0m in \u001b[0;36m_initialize\u001b[0;34m(self, args, kwds, add_initializers_to)\u001b[0m\n\u001b[1;32m    495\u001b[0m     self._concrete_stateful_fn = (\n\u001b[1;32m    496\u001b[0m         self._stateful_fn._get_concrete_function_internal_garbage_collected(  # pylint: disable=protected-access\n\u001b[0;32m--> 497\u001b[0;31m             *args, **kwds))\n\u001b[0m\u001b[1;32m    498\u001b[0m \u001b[0;34m\u001b[0m\u001b[0m\n\u001b[1;32m    499\u001b[0m     \u001b[0;32mdef\u001b[0m \u001b[0minvalid_creator_scope\u001b[0m\u001b[0;34m(\u001b[0m\u001b[0;34m*\u001b[0m\u001b[0munused_args\u001b[0m\u001b[0;34m,\u001b[0m \u001b[0;34m**\u001b[0m\u001b[0munused_kwds\u001b[0m\u001b[0;34m)\u001b[0m\u001b[0;34m:\u001b[0m\u001b[0;34m\u001b[0m\u001b[0;34m\u001b[0m\u001b[0m\n",
            "\u001b[0;32m/usr/local/lib/python3.6/dist-packages/tensorflow_core/python/eager/function.py\u001b[0m in \u001b[0;36m_get_concrete_function_internal_garbage_collected\u001b[0;34m(self, *args, **kwargs)\u001b[0m\n\u001b[1;32m   2387\u001b[0m       \u001b[0margs\u001b[0m\u001b[0;34m,\u001b[0m \u001b[0mkwargs\u001b[0m \u001b[0;34m=\u001b[0m \u001b[0;32mNone\u001b[0m\u001b[0;34m,\u001b[0m \u001b[0;32mNone\u001b[0m\u001b[0;34m\u001b[0m\u001b[0;34m\u001b[0m\u001b[0m\n\u001b[1;32m   2388\u001b[0m     \u001b[0;32mwith\u001b[0m \u001b[0mself\u001b[0m\u001b[0;34m.\u001b[0m\u001b[0m_lock\u001b[0m\u001b[0;34m:\u001b[0m\u001b[0;34m\u001b[0m\u001b[0;34m\u001b[0m\u001b[0m\n\u001b[0;32m-> 2389\u001b[0;31m       \u001b[0mgraph_function\u001b[0m\u001b[0;34m,\u001b[0m \u001b[0m_\u001b[0m\u001b[0;34m,\u001b[0m \u001b[0m_\u001b[0m \u001b[0;34m=\u001b[0m \u001b[0mself\u001b[0m\u001b[0;34m.\u001b[0m\u001b[0m_maybe_define_function\u001b[0m\u001b[0;34m(\u001b[0m\u001b[0margs\u001b[0m\u001b[0;34m,\u001b[0m \u001b[0mkwargs\u001b[0m\u001b[0;34m)\u001b[0m\u001b[0;34m\u001b[0m\u001b[0;34m\u001b[0m\u001b[0m\n\u001b[0m\u001b[1;32m   2390\u001b[0m     \u001b[0;32mreturn\u001b[0m \u001b[0mgraph_function\u001b[0m\u001b[0;34m\u001b[0m\u001b[0;34m\u001b[0m\u001b[0m\n\u001b[1;32m   2391\u001b[0m \u001b[0;34m\u001b[0m\u001b[0m\n",
            "\u001b[0;32m/usr/local/lib/python3.6/dist-packages/tensorflow_core/python/eager/function.py\u001b[0m in \u001b[0;36m_maybe_define_function\u001b[0;34m(self, args, kwargs)\u001b[0m\n\u001b[1;32m   2701\u001b[0m \u001b[0;34m\u001b[0m\u001b[0m\n\u001b[1;32m   2702\u001b[0m       \u001b[0mself\u001b[0m\u001b[0;34m.\u001b[0m\u001b[0m_function_cache\u001b[0m\u001b[0;34m.\u001b[0m\u001b[0mmissed\u001b[0m\u001b[0;34m.\u001b[0m\u001b[0madd\u001b[0m\u001b[0;34m(\u001b[0m\u001b[0mcall_context_key\u001b[0m\u001b[0;34m)\u001b[0m\u001b[0;34m\u001b[0m\u001b[0;34m\u001b[0m\u001b[0m\n\u001b[0;32m-> 2703\u001b[0;31m       \u001b[0mgraph_function\u001b[0m \u001b[0;34m=\u001b[0m \u001b[0mself\u001b[0m\u001b[0;34m.\u001b[0m\u001b[0m_create_graph_function\u001b[0m\u001b[0;34m(\u001b[0m\u001b[0margs\u001b[0m\u001b[0;34m,\u001b[0m \u001b[0mkwargs\u001b[0m\u001b[0;34m)\u001b[0m\u001b[0;34m\u001b[0m\u001b[0;34m\u001b[0m\u001b[0m\n\u001b[0m\u001b[1;32m   2704\u001b[0m       \u001b[0mself\u001b[0m\u001b[0;34m.\u001b[0m\u001b[0m_function_cache\u001b[0m\u001b[0;34m.\u001b[0m\u001b[0mprimary\u001b[0m\u001b[0;34m[\u001b[0m\u001b[0mcache_key\u001b[0m\u001b[0;34m]\u001b[0m \u001b[0;34m=\u001b[0m \u001b[0mgraph_function\u001b[0m\u001b[0;34m\u001b[0m\u001b[0;34m\u001b[0m\u001b[0m\n\u001b[1;32m   2705\u001b[0m       \u001b[0;32mreturn\u001b[0m \u001b[0mgraph_function\u001b[0m\u001b[0;34m,\u001b[0m \u001b[0margs\u001b[0m\u001b[0;34m,\u001b[0m \u001b[0mkwargs\u001b[0m\u001b[0;34m\u001b[0m\u001b[0;34m\u001b[0m\u001b[0m\n",
            "\u001b[0;32m/usr/local/lib/python3.6/dist-packages/tensorflow_core/python/eager/function.py\u001b[0m in \u001b[0;36m_create_graph_function\u001b[0;34m(self, args, kwargs, override_flat_arg_shapes)\u001b[0m\n\u001b[1;32m   2591\u001b[0m             \u001b[0marg_names\u001b[0m\u001b[0;34m=\u001b[0m\u001b[0marg_names\u001b[0m\u001b[0;34m,\u001b[0m\u001b[0;34m\u001b[0m\u001b[0;34m\u001b[0m\u001b[0m\n\u001b[1;32m   2592\u001b[0m             \u001b[0moverride_flat_arg_shapes\u001b[0m\u001b[0;34m=\u001b[0m\u001b[0moverride_flat_arg_shapes\u001b[0m\u001b[0;34m,\u001b[0m\u001b[0;34m\u001b[0m\u001b[0;34m\u001b[0m\u001b[0m\n\u001b[0;32m-> 2593\u001b[0;31m             capture_by_value=self._capture_by_value),\n\u001b[0m\u001b[1;32m   2594\u001b[0m         \u001b[0mself\u001b[0m\u001b[0;34m.\u001b[0m\u001b[0m_function_attributes\u001b[0m\u001b[0;34m,\u001b[0m\u001b[0;34m\u001b[0m\u001b[0;34m\u001b[0m\u001b[0m\n\u001b[1;32m   2595\u001b[0m         \u001b[0;31m# Tell the ConcreteFunction to clean up its graph once it goes out of\u001b[0m\u001b[0;34m\u001b[0m\u001b[0;34m\u001b[0m\u001b[0;34m\u001b[0m\u001b[0m\n",
            "\u001b[0;32m/usr/local/lib/python3.6/dist-packages/tensorflow_core/python/framework/func_graph.py\u001b[0m in \u001b[0;36mfunc_graph_from_py_func\u001b[0;34m(name, python_func, args, kwargs, signature, func_graph, autograph, autograph_options, add_control_dependencies, arg_names, op_return_value, collections, capture_by_value, override_flat_arg_shapes)\u001b[0m\n\u001b[1;32m    976\u001b[0m                                           converted_func)\n\u001b[1;32m    977\u001b[0m \u001b[0;34m\u001b[0m\u001b[0m\n\u001b[0;32m--> 978\u001b[0;31m       \u001b[0mfunc_outputs\u001b[0m \u001b[0;34m=\u001b[0m \u001b[0mpython_func\u001b[0m\u001b[0;34m(\u001b[0m\u001b[0;34m*\u001b[0m\u001b[0mfunc_args\u001b[0m\u001b[0;34m,\u001b[0m \u001b[0;34m**\u001b[0m\u001b[0mfunc_kwargs\u001b[0m\u001b[0;34m)\u001b[0m\u001b[0;34m\u001b[0m\u001b[0;34m\u001b[0m\u001b[0m\n\u001b[0m\u001b[1;32m    979\u001b[0m \u001b[0;34m\u001b[0m\u001b[0m\n\u001b[1;32m    980\u001b[0m       \u001b[0;31m# invariant: `func_outputs` contains only Tensors, CompositeTensors,\u001b[0m\u001b[0;34m\u001b[0m\u001b[0;34m\u001b[0m\u001b[0;34m\u001b[0m\u001b[0m\n",
            "\u001b[0;32m/usr/local/lib/python3.6/dist-packages/tensorflow_core/python/eager/def_function.py\u001b[0m in \u001b[0;36mwrapped_fn\u001b[0;34m(*args, **kwds)\u001b[0m\n\u001b[1;32m    437\u001b[0m         \u001b[0;31m# __wrapped__ allows AutoGraph to swap in a converted function. We give\u001b[0m\u001b[0;34m\u001b[0m\u001b[0;34m\u001b[0m\u001b[0;34m\u001b[0m\u001b[0m\n\u001b[1;32m    438\u001b[0m         \u001b[0;31m# the function a weak reference to itself to avoid a reference cycle.\u001b[0m\u001b[0;34m\u001b[0m\u001b[0;34m\u001b[0m\u001b[0;34m\u001b[0m\u001b[0m\n\u001b[0;32m--> 439\u001b[0;31m         \u001b[0;32mreturn\u001b[0m \u001b[0mweak_wrapped_fn\u001b[0m\u001b[0;34m(\u001b[0m\u001b[0;34m)\u001b[0m\u001b[0;34m.\u001b[0m\u001b[0m__wrapped__\u001b[0m\u001b[0;34m(\u001b[0m\u001b[0;34m*\u001b[0m\u001b[0margs\u001b[0m\u001b[0;34m,\u001b[0m \u001b[0;34m**\u001b[0m\u001b[0mkwds\u001b[0m\u001b[0;34m)\u001b[0m\u001b[0;34m\u001b[0m\u001b[0;34m\u001b[0m\u001b[0m\n\u001b[0m\u001b[1;32m    440\u001b[0m     \u001b[0mweak_wrapped_fn\u001b[0m \u001b[0;34m=\u001b[0m \u001b[0mweakref\u001b[0m\u001b[0;34m.\u001b[0m\u001b[0mref\u001b[0m\u001b[0;34m(\u001b[0m\u001b[0mwrapped_fn\u001b[0m\u001b[0;34m)\u001b[0m\u001b[0;34m\u001b[0m\u001b[0;34m\u001b[0m\u001b[0m\n\u001b[1;32m    441\u001b[0m \u001b[0;34m\u001b[0m\u001b[0m\n",
            "\u001b[0;32m/usr/local/lib/python3.6/dist-packages/tensorflow_core/python/eager/function.py\u001b[0m in \u001b[0;36mbound_method_wrapper\u001b[0;34m(*args, **kwargs)\u001b[0m\n\u001b[1;32m   3209\u001b[0m     \u001b[0;31m# However, the replacer is still responsible for attaching self properly.\u001b[0m\u001b[0;34m\u001b[0m\u001b[0;34m\u001b[0m\u001b[0;34m\u001b[0m\u001b[0m\n\u001b[1;32m   3210\u001b[0m     \u001b[0;31m# TODO(mdan): Is it possible to do it here instead?\u001b[0m\u001b[0;34m\u001b[0m\u001b[0;34m\u001b[0m\u001b[0;34m\u001b[0m\u001b[0m\n\u001b[0;32m-> 3211\u001b[0;31m     \u001b[0;32mreturn\u001b[0m \u001b[0mwrapped_fn\u001b[0m\u001b[0;34m(\u001b[0m\u001b[0;34m*\u001b[0m\u001b[0margs\u001b[0m\u001b[0;34m,\u001b[0m \u001b[0;34m**\u001b[0m\u001b[0mkwargs\u001b[0m\u001b[0;34m)\u001b[0m\u001b[0;34m\u001b[0m\u001b[0;34m\u001b[0m\u001b[0m\n\u001b[0m\u001b[1;32m   3212\u001b[0m   \u001b[0mweak_bound_method_wrapper\u001b[0m \u001b[0;34m=\u001b[0m \u001b[0mweakref\u001b[0m\u001b[0;34m.\u001b[0m\u001b[0mref\u001b[0m\u001b[0;34m(\u001b[0m\u001b[0mbound_method_wrapper\u001b[0m\u001b[0;34m)\u001b[0m\u001b[0;34m\u001b[0m\u001b[0;34m\u001b[0m\u001b[0m\n\u001b[1;32m   3213\u001b[0m \u001b[0;34m\u001b[0m\u001b[0m\n",
            "\u001b[0;32m/usr/local/lib/python3.6/dist-packages/tensorflow_core/python/framework/func_graph.py\u001b[0m in \u001b[0;36mwrapper\u001b[0;34m(*args, **kwargs)\u001b[0m\n\u001b[1;32m    966\u001b[0m           \u001b[0;32mexcept\u001b[0m \u001b[0mException\u001b[0m \u001b[0;32mas\u001b[0m \u001b[0me\u001b[0m\u001b[0;34m:\u001b[0m  \u001b[0;31m# pylint:disable=broad-except\u001b[0m\u001b[0;34m\u001b[0m\u001b[0;34m\u001b[0m\u001b[0m\n\u001b[1;32m    967\u001b[0m             \u001b[0;32mif\u001b[0m \u001b[0mhasattr\u001b[0m\u001b[0;34m(\u001b[0m\u001b[0me\u001b[0m\u001b[0;34m,\u001b[0m \u001b[0;34m\"ag_error_metadata\"\u001b[0m\u001b[0;34m)\u001b[0m\u001b[0;34m:\u001b[0m\u001b[0;34m\u001b[0m\u001b[0;34m\u001b[0m\u001b[0m\n\u001b[0;32m--> 968\u001b[0;31m               \u001b[0;32mraise\u001b[0m \u001b[0me\u001b[0m\u001b[0;34m.\u001b[0m\u001b[0mag_error_metadata\u001b[0m\u001b[0;34m.\u001b[0m\u001b[0mto_exception\u001b[0m\u001b[0;34m(\u001b[0m\u001b[0me\u001b[0m\u001b[0;34m)\u001b[0m\u001b[0;34m\u001b[0m\u001b[0;34m\u001b[0m\u001b[0m\n\u001b[0m\u001b[1;32m    969\u001b[0m             \u001b[0;32melse\u001b[0m\u001b[0;34m:\u001b[0m\u001b[0;34m\u001b[0m\u001b[0;34m\u001b[0m\u001b[0m\n\u001b[1;32m    970\u001b[0m               \u001b[0;32mraise\u001b[0m\u001b[0;34m\u001b[0m\u001b[0;34m\u001b[0m\u001b[0m\n",
            "\u001b[0;31mTypeError\u001b[0m: in converted code:\n\n    <ipython-input-171-982aebf7ce96>:138 infidelity  *\n        propagator = self.propagate()\n    <ipython-input-171-982aebf7ce96>:115 propagate  *\n        step_exps = self.exponentials()\n    <ipython-input-171-982aebf7ce96>:95 exponentials  *\n        Hamiltonian = np.array(self.Hamiltonian(), dtype=np.complex128)\n    /usr/local/lib/python3.6/dist-packages/tensorflow_core/python/autograph/impl/api.py:414 converted_call\n        return py_builtins.overload_of(f)(*args, **kwargs)\n\n    TypeError: must be real number, not Qobj\n"
          ]
        },
        {
          "output_type": "display_data",
          "data": {
            "image/png": "[encoded data removed]",
            "text/plain": [
              "<Figure size 432x288 with 1 Axes>"
            ]
          },
          "metadata": {
            "tags": []
          }
        }
      ]
    },
    {
      "cell_type": "code",
      "metadata": {
        "id": "lPh2UjI8iTnQ",
        "colab_type": "code",
        "colab": {
          "base_uri": "https://localhost:8080/",
          "height": 153
        },
        "outputId": "a662cc4b-bd4c-4f77-b027-a6185af78de8"
      },
      "source": [
        "def nLevelAtomBasis(n):\n",
        "    states = []\n",
        "    for n_l in range(0,n):\n",
        "        states.append(basis(n, n_l))\n",
        "    return np.array(states, dtype=object)\n",
        "a,s,d,f=nLevelAtomBasis(4)\n",
        "\n",
        "x=np.array(a, dtype=np.complex128)\n",
        "x=tf.cast(x, dtype=tf.complex128)\n",
        "print(x)\n",
        "\n",
        "b = tf.constant(\n",
        "    [[0, 1], [1, 0]], dtype=tf.complex128\n",
        ")\n",
        "print(b)\n",
        "\n",
        "psi_0 = tf.cast(x, dtype=np.complex128)"
      ],
      "execution_count": 177,
      "outputs": [
        {
          "output_type": "stream",
          "text": [
            "tf.Tensor(\n",
            "[[1.+0.j]\n",
            " [0.+0.j]\n",
            " [0.+0.j]\n",
            " [0.+0.j]], shape=(4, 1), dtype=complex128)\n",
            "tf.Tensor(\n",
            "[[0.+0.j 1.+0.j]\n",
            " [1.+0.j 0.+0.j]], shape=(2, 2), dtype=complex128)\n"
          ],
          "name": "stdout"
        }
      ]
    },
    {
      "cell_type": "code",
      "metadata": {
        "id": "sTqI4wupnDyK",
        "colab_type": "code",
        "colab": {}
      },
      "source": [
        ""
      ],
      "execution_count": 0,
      "outputs": []
    }
  ]
}